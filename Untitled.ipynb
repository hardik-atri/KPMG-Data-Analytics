{
 "cells": [
  {
   "cell_type": "code",
   "execution_count": 1,
   "id": "ca99d255-362f-49af-b743-7bd8c4e47d1a",
   "metadata": {},
   "outputs": [],
   "source": [
    "import numpy as np\n",
    "import pandas as pd\n",
    "import matplotlib.pyplot as plt\n",
    "import seaborn as sns"
   ]
  },
  {
   "cell_type": "code",
   "execution_count": 2,
   "id": "01b7c502-b27f-4804-90c5-4e94c7e82a8e",
   "metadata": {},
   "outputs": [],
   "source": [
    "demo = pd.read_csv(\"CustomerDemographic.csv\")\n",
    "trans = pd.read_csv(\"Transactions.csv\")\n",
    "add = pd.read_csv(\"CustomerAddress.csv\")"
   ]
  },
  {
   "cell_type": "code",
   "execution_count": 3,
   "id": "7e881d40-1ea7-4254-91fc-f624f6b19591",
   "metadata": {},
   "outputs": [
    {
     "name": "stdout",
     "output_type": "stream",
     "text": [
      "Customer_Demo:  (4000, 14)\n",
      "Transaction:  (20000, 13)\n",
      "Customer_add:  (3999, 6)\n"
     ]
    }
   ],
   "source": [
    "print(\"Customer_Demo: \", demo.shape)\n",
    "print(\"Transaction: \", trans.shape)\n",
    "print(\"Customer_add: \", add.shape)"
   ]
  },
  {
   "cell_type": "code",
   "execution_count": 4,
   "id": "9bef9d3a-878a-4745-b982-25bcb84763f5",
   "metadata": {},
   "outputs": [
    {
     "data": {
      "text/html": [
       "<div>\n",
       "<style scoped>\n",
       "    .dataframe tbody tr th:only-of-type {\n",
       "        vertical-align: middle;\n",
       "    }\n",
       "\n",
       "    .dataframe tbody tr th {\n",
       "        vertical-align: top;\n",
       "    }\n",
       "\n",
       "    .dataframe thead th {\n",
       "        text-align: right;\n",
       "    }\n",
       "</style>\n",
       "<table border=\"1\" class=\"dataframe\">\n",
       "  <thead>\n",
       "    <tr style=\"text-align: right;\">\n",
       "      <th></th>\n",
       "      <th>customer_id</th>\n",
       "      <th>first_name</th>\n",
       "      <th>last_name</th>\n",
       "      <th>gender</th>\n",
       "      <th>past_3_years_bike_related_purchases</th>\n",
       "      <th>DOB</th>\n",
       "      <th>age</th>\n",
       "      <th>job_title</th>\n",
       "      <th>job_industry_category</th>\n",
       "      <th>wealth_segment</th>\n",
       "      <th>deceased_indicator</th>\n",
       "      <th>default</th>\n",
       "      <th>owns_car</th>\n",
       "      <th>tenure</th>\n",
       "    </tr>\n",
       "  </thead>\n",
       "  <tbody>\n",
       "    <tr>\n",
       "      <th>0</th>\n",
       "      <td>34</td>\n",
       "      <td>Jephthah</td>\n",
       "      <td>Bachmann</td>\n",
       "      <td>U</td>\n",
       "      <td>59</td>\n",
       "      <td>21/12/1843</td>\n",
       "      <td>NaN</td>\n",
       "      <td>Legal Assistant</td>\n",
       "      <td>IT</td>\n",
       "      <td>Affluent Customer</td>\n",
       "      <td>N</td>\n",
       "      <td>NaN</td>\n",
       "      <td>No</td>\n",
       "      <td>20.0</td>\n",
       "    </tr>\n",
       "    <tr>\n",
       "      <th>1</th>\n",
       "      <td>720</td>\n",
       "      <td>Darrel</td>\n",
       "      <td>Canet</td>\n",
       "      <td>Male</td>\n",
       "      <td>67</td>\n",
       "      <td>23/10/1931</td>\n",
       "      <td>NaN</td>\n",
       "      <td>Recruiting Manager</td>\n",
       "      <td>Retail</td>\n",
       "      <td>Affluent Customer</td>\n",
       "      <td>N</td>\n",
       "      <td>1;DROP TABLE users</td>\n",
       "      <td>No</td>\n",
       "      <td>6.0</td>\n",
       "    </tr>\n",
       "    <tr>\n",
       "      <th>2</th>\n",
       "      <td>1092</td>\n",
       "      <td>Katlin</td>\n",
       "      <td>Creddon</td>\n",
       "      <td>Female</td>\n",
       "      <td>56</td>\n",
       "      <td>22/08/1935</td>\n",
       "      <td>NaN</td>\n",
       "      <td>VP Quality Control</td>\n",
       "      <td>Retail</td>\n",
       "      <td>Mass Customer</td>\n",
       "      <td>N</td>\n",
       "      <td>ì¬íê³¼íì ì´íì°êµ¬ì</td>\n",
       "      <td>No</td>\n",
       "      <td>5.0</td>\n",
       "    </tr>\n",
       "    <tr>\n",
       "      <th>3</th>\n",
       "      <td>3410</td>\n",
       "      <td>Merrili</td>\n",
       "      <td>Brittin</td>\n",
       "      <td>Female</td>\n",
       "      <td>93</td>\n",
       "      <td>22/09/1940</td>\n",
       "      <td>NaN</td>\n",
       "      <td>NaN</td>\n",
       "      <td>Property</td>\n",
       "      <td>Mass Customer</td>\n",
       "      <td>N</td>\n",
       "      <td>á</td>\n",
       "      <td>No</td>\n",
       "      <td>16.0</td>\n",
       "    </tr>\n",
       "    <tr>\n",
       "      <th>4</th>\n",
       "      <td>2413</td>\n",
       "      <td>Abbey</td>\n",
       "      <td>Murrow</td>\n",
       "      <td>Male</td>\n",
       "      <td>27</td>\n",
       "      <td>11/08/1943</td>\n",
       "      <td>NaN</td>\n",
       "      <td>Environmental Specialist</td>\n",
       "      <td>Manufacturing</td>\n",
       "      <td>High Net Worth</td>\n",
       "      <td>N</td>\n",
       "      <td>á</td>\n",
       "      <td>Yes</td>\n",
       "      <td>17.0</td>\n",
       "    </tr>\n",
       "  </tbody>\n",
       "</table>\n",
       "</div>"
      ],
      "text/plain": [
       "   customer_id first_name last_name  gender  \\\n",
       "0           34   Jephthah  Bachmann       U   \n",
       "1          720     Darrel     Canet    Male   \n",
       "2         1092     Katlin   Creddon  Female   \n",
       "3         3410    Merrili   Brittin  Female   \n",
       "4         2413      Abbey    Murrow    Male   \n",
       "\n",
       "   past_3_years_bike_related_purchases         DOB  age  \\\n",
       "0                                   59  21/12/1843  NaN   \n",
       "1                                   67  23/10/1931  NaN   \n",
       "2                                   56  22/08/1935  NaN   \n",
       "3                                   93  22/09/1940  NaN   \n",
       "4                                   27  11/08/1943  NaN   \n",
       "\n",
       "                  job_title job_industry_category     wealth_segment  \\\n",
       "0           Legal Assistant                    IT  Affluent Customer   \n",
       "1        Recruiting Manager                Retail  Affluent Customer   \n",
       "2        VP Quality Control                Retail      Mass Customer   \n",
       "3                       NaN              Property      Mass Customer   \n",
       "4  Environmental Specialist         Manufacturing     High Net Worth   \n",
       "\n",
       "  deceased_indicator             default owns_car  tenure  \n",
       "0                  N                 NaN       No    20.0  \n",
       "1                  N  1;DROP TABLE users       No     6.0  \n",
       "2                  N  ì¬íê³¼íì ì´íì°êµ¬ì       No     5.0  \n",
       "3                  N                   á       No    16.0  \n",
       "4                  N                  á       Yes    17.0  "
      ]
     },
     "execution_count": 4,
     "metadata": {},
     "output_type": "execute_result"
    }
   ],
   "source": [
    "demo.head()"
   ]
  },
  {
   "cell_type": "markdown",
   "id": "22fe33f5-6c07-497a-8bbd-88a70be827b5",
   "metadata": {
    "jp-MarkdownHeadingCollapsed": true,
    "tags": []
   },
   "source": [
    "## 1. Data Cleaning"
   ]
  },
  {
   "cell_type": "markdown",
   "id": "48c116f3-55b5-4104-a01e-7e13fb5bcc58",
   "metadata": {},
   "source": [
    " \n",
    "* demo : { first_name , last_name, age, job_title, job_industry_category, default }  \n",
    "  \n",
    "  \n",
    "* trans : Group_by customer_id and sum up the list price  \n",
    "\n",
    "  \n",
    "    \n",
    "* add : Do nothing"
   ]
  },
  {
   "cell_type": "markdown",
   "id": "ac100bc5-bc53-4f9a-b3e9-68546c65a51c",
   "metadata": {
    "tags": []
   },
   "source": [
    "#### Customer Demographics"
   ]
  },
  {
   "cell_type": "code",
   "execution_count": 5,
   "id": "76bf6925-0a2d-41f4-8ee8-db4e904f83d2",
   "metadata": {},
   "outputs": [],
   "source": [
    "cols_todrop = ['first_name' , 'last_name' , 'age', 'job_title', 'job_industry_category', 'default']\n",
    "demo1 = demo.drop(columns = cols_todrop)"
   ]
  },
  {
   "cell_type": "code",
   "execution_count": 6,
   "id": "16900d31-ad49-454e-880a-280f70f586e1",
   "metadata": {},
   "outputs": [
    {
     "data": {
      "text/plain": [
       "(4000, 8)"
      ]
     },
     "execution_count": 6,
     "metadata": {},
     "output_type": "execute_result"
    }
   ],
   "source": [
    "demo1.shape"
   ]
  },
  {
   "cell_type": "markdown",
   "id": "9036170e-7dfb-4208-bac8-2c050253a200",
   "metadata": {},
   "source": [
    "#### Transactions"
   ]
  },
  {
   "cell_type": "code",
   "execution_count": 7,
   "id": "5b0b4e43-2a4a-41ca-b993-05c970910e2d",
   "metadata": {},
   "outputs": [
    {
     "data": {
      "text/html": [
       "<div>\n",
       "<style scoped>\n",
       "    .dataframe tbody tr th:only-of-type {\n",
       "        vertical-align: middle;\n",
       "    }\n",
       "\n",
       "    .dataframe tbody tr th {\n",
       "        vertical-align: top;\n",
       "    }\n",
       "\n",
       "    .dataframe thead th {\n",
       "        text-align: right;\n",
       "    }\n",
       "</style>\n",
       "<table border=\"1\" class=\"dataframe\">\n",
       "  <thead>\n",
       "    <tr style=\"text-align: right;\">\n",
       "      <th></th>\n",
       "      <th>transaction_id</th>\n",
       "      <th>product_id</th>\n",
       "      <th>customer_id</th>\n",
       "      <th>transaction_date</th>\n",
       "      <th>online_order</th>\n",
       "      <th>order_status</th>\n",
       "      <th>brand</th>\n",
       "      <th>product_line</th>\n",
       "      <th>product_class</th>\n",
       "      <th>product_size</th>\n",
       "      <th>list_price</th>\n",
       "      <th>standard_cost</th>\n",
       "      <th>product_first_sold_date</th>\n",
       "    </tr>\n",
       "  </thead>\n",
       "  <tbody>\n",
       "    <tr>\n",
       "      <th>0</th>\n",
       "      <td>1</td>\n",
       "      <td>2</td>\n",
       "      <td>2950</td>\n",
       "      <td>25/2/2017</td>\n",
       "      <td>False</td>\n",
       "      <td>Approved</td>\n",
       "      <td>Solex</td>\n",
       "      <td>Standard</td>\n",
       "      <td>medium</td>\n",
       "      <td>medium</td>\n",
       "      <td>71.49</td>\n",
       "      <td>$53.62</td>\n",
       "      <td>41245.0</td>\n",
       "    </tr>\n",
       "    <tr>\n",
       "      <th>1</th>\n",
       "      <td>2</td>\n",
       "      <td>3</td>\n",
       "      <td>3120</td>\n",
       "      <td>21/5/2017</td>\n",
       "      <td>True</td>\n",
       "      <td>Approved</td>\n",
       "      <td>Trek Bicycles</td>\n",
       "      <td>Standard</td>\n",
       "      <td>medium</td>\n",
       "      <td>large</td>\n",
       "      <td>2091.47</td>\n",
       "      <td>$388.92</td>\n",
       "      <td>41701.0</td>\n",
       "    </tr>\n",
       "    <tr>\n",
       "      <th>2</th>\n",
       "      <td>3</td>\n",
       "      <td>37</td>\n",
       "      <td>402</td>\n",
       "      <td>16/10/2017</td>\n",
       "      <td>False</td>\n",
       "      <td>Approved</td>\n",
       "      <td>OHM Cycles</td>\n",
       "      <td>Standard</td>\n",
       "      <td>low</td>\n",
       "      <td>medium</td>\n",
       "      <td>1793.43</td>\n",
       "      <td>$248.82</td>\n",
       "      <td>36361.0</td>\n",
       "    </tr>\n",
       "    <tr>\n",
       "      <th>3</th>\n",
       "      <td>4</td>\n",
       "      <td>88</td>\n",
       "      <td>3135</td>\n",
       "      <td>31/8/2017</td>\n",
       "      <td>False</td>\n",
       "      <td>Approved</td>\n",
       "      <td>Norco Bicycles</td>\n",
       "      <td>Standard</td>\n",
       "      <td>medium</td>\n",
       "      <td>medium</td>\n",
       "      <td>1198.46</td>\n",
       "      <td>$381.10</td>\n",
       "      <td>36145.0</td>\n",
       "    </tr>\n",
       "    <tr>\n",
       "      <th>4</th>\n",
       "      <td>5</td>\n",
       "      <td>78</td>\n",
       "      <td>787</td>\n",
       "      <td>1/10/2017</td>\n",
       "      <td>True</td>\n",
       "      <td>Approved</td>\n",
       "      <td>Giant Bicycles</td>\n",
       "      <td>Standard</td>\n",
       "      <td>medium</td>\n",
       "      <td>large</td>\n",
       "      <td>1765.30</td>\n",
       "      <td>$709.48</td>\n",
       "      <td>42226.0</td>\n",
       "    </tr>\n",
       "  </tbody>\n",
       "</table>\n",
       "</div>"
      ],
      "text/plain": [
       "   transaction_id  product_id  customer_id transaction_date online_order  \\\n",
       "0               1           2         2950        25/2/2017        False   \n",
       "1               2           3         3120        21/5/2017         True   \n",
       "2               3          37          402       16/10/2017        False   \n",
       "3               4          88         3135        31/8/2017        False   \n",
       "4               5          78          787        1/10/2017         True   \n",
       "\n",
       "  order_status           brand product_line product_class product_size  \\\n",
       "0     Approved           Solex     Standard        medium       medium   \n",
       "1     Approved   Trek Bicycles     Standard        medium        large   \n",
       "2     Approved      OHM Cycles     Standard           low       medium   \n",
       "3     Approved  Norco Bicycles     Standard        medium       medium   \n",
       "4     Approved  Giant Bicycles     Standard        medium        large   \n",
       "\n",
       "   list_price standard_cost  product_first_sold_date  \n",
       "0       71.49        $53.62                  41245.0  \n",
       "1     2091.47       $388.92                  41701.0  \n",
       "2     1793.43       $248.82                  36361.0  \n",
       "3     1198.46       $381.10                  36145.0  \n",
       "4     1765.30       $709.48                  42226.0  "
      ]
     },
     "execution_count": 7,
     "metadata": {},
     "output_type": "execute_result"
    }
   ],
   "source": [
    "trans.head()"
   ]
  },
  {
   "cell_type": "code",
   "execution_count": 8,
   "id": "06800734-f545-4a6c-8cb1-9f7cad2052ef",
   "metadata": {},
   "outputs": [],
   "source": [
    "ids = trans.groupby('customer_id')"
   ]
  },
  {
   "cell_type": "code",
   "execution_count": 9,
   "id": "f2a6a9b3-c857-4e18-844a-04c32fa7a2ec",
   "metadata": {},
   "outputs": [],
   "source": [
    "trans_gpby = ids[['list_price']].agg(np.sum)"
   ]
  },
  {
   "cell_type": "code",
   "execution_count": 10,
   "id": "b33a7e2a-4827-46ac-aff2-1ad4862059ac",
   "metadata": {},
   "outputs": [
    {
     "data": {
      "text/html": [
       "<div>\n",
       "<style scoped>\n",
       "    .dataframe tbody tr th:only-of-type {\n",
       "        vertical-align: middle;\n",
       "    }\n",
       "\n",
       "    .dataframe tbody tr th {\n",
       "        vertical-align: top;\n",
       "    }\n",
       "\n",
       "    .dataframe thead th {\n",
       "        text-align: right;\n",
       "    }\n",
       "</style>\n",
       "<table border=\"1\" class=\"dataframe\">\n",
       "  <thead>\n",
       "    <tr style=\"text-align: right;\">\n",
       "      <th></th>\n",
       "      <th>list_price</th>\n",
       "    </tr>\n",
       "    <tr>\n",
       "      <th>customer_id</th>\n",
       "      <th></th>\n",
       "    </tr>\n",
       "  </thead>\n",
       "  <tbody>\n",
       "    <tr>\n",
       "      <th>1</th>\n",
       "      <td>9084.45</td>\n",
       "    </tr>\n",
       "    <tr>\n",
       "      <th>2</th>\n",
       "      <td>4149.07</td>\n",
       "    </tr>\n",
       "    <tr>\n",
       "      <th>3</th>\n",
       "      <td>9888.23</td>\n",
       "    </tr>\n",
       "    <tr>\n",
       "      <th>4</th>\n",
       "      <td>1047.72</td>\n",
       "    </tr>\n",
       "    <tr>\n",
       "      <th>5</th>\n",
       "      <td>5903.20</td>\n",
       "    </tr>\n",
       "    <tr>\n",
       "      <th>...</th>\n",
       "      <td>...</td>\n",
       "    </tr>\n",
       "    <tr>\n",
       "      <th>3497</th>\n",
       "      <td>3744.07</td>\n",
       "    </tr>\n",
       "    <tr>\n",
       "      <th>3498</th>\n",
       "      <td>5177.06</td>\n",
       "    </tr>\n",
       "    <tr>\n",
       "      <th>3499</th>\n",
       "      <td>7673.48</td>\n",
       "    </tr>\n",
       "    <tr>\n",
       "      <th>3500</th>\n",
       "      <td>4922.41</td>\n",
       "    </tr>\n",
       "    <tr>\n",
       "      <th>5034</th>\n",
       "      <td>1519.92</td>\n",
       "    </tr>\n",
       "  </tbody>\n",
       "</table>\n",
       "<p>3494 rows × 1 columns</p>\n",
       "</div>"
      ],
      "text/plain": [
       "             list_price\n",
       "customer_id            \n",
       "1               9084.45\n",
       "2               4149.07\n",
       "3               9888.23\n",
       "4               1047.72\n",
       "5               5903.20\n",
       "...                 ...\n",
       "3497            3744.07\n",
       "3498            5177.06\n",
       "3499            7673.48\n",
       "3500            4922.41\n",
       "5034            1519.92\n",
       "\n",
       "[3494 rows x 1 columns]"
      ]
     },
     "execution_count": 10,
     "metadata": {},
     "output_type": "execute_result"
    }
   ],
   "source": [
    "trans_gpby"
   ]
  },
  {
   "cell_type": "code",
   "execution_count": 11,
   "id": "d48c1fb4-8c68-49b7-841f-e47b4c476595",
   "metadata": {},
   "outputs": [],
   "source": [
    "trans_gpby = trans_gpby.reset_index()"
   ]
  },
  {
   "cell_type": "code",
   "execution_count": 12,
   "id": "df32d1df-f05d-4792-8b86-5db3a50cdc93",
   "metadata": {},
   "outputs": [],
   "source": [
    "trans_id = tuple(trans['customer_id'])\n",
    "demo_id = tuple(demo1['customer_id'])"
   ]
  },
  {
   "cell_type": "code",
   "execution_count": 13,
   "id": "1c9e953c-f355-472c-87da-f00652f9c233",
   "metadata": {},
   "outputs": [],
   "source": [
    "customer_with_no_trans = [] # customer_ids with 0 transactions\n",
    "\n",
    "for i in demo_id:\n",
    "    \n",
    "    if i not in trans_id:\n",
    "        customer_with_no_trans.append(i)"
   ]
  },
  {
   "cell_type": "code",
   "execution_count": 14,
   "id": "a4ba46c5-c6c4-4db5-b566-5dafd8bceb58",
   "metadata": {},
   "outputs": [
    {
     "data": {
      "text/plain": [
       "507"
      ]
     },
     "execution_count": 14,
     "metadata": {},
     "output_type": "execute_result"
    }
   ],
   "source": [
    "len(customer_with_no_trans)"
   ]
  },
  {
   "cell_type": "code",
   "execution_count": 15,
   "id": "8aa577be-a361-47b7-87fc-e360e2846edb",
   "metadata": {},
   "outputs": [],
   "source": [
    "invalid_trans = []\n",
    "\n",
    "for i in trans_id:\n",
    "    \n",
    "    if i not in demo_id:\n",
    "        invalid_trans.append(i)"
   ]
  },
  {
   "cell_type": "code",
   "execution_count": 16,
   "id": "8f928dd9-b88e-410f-b499-9739d9aa2ef0",
   "metadata": {},
   "outputs": [
    {
     "data": {
      "text/plain": [
       "[5034, 5034, 5034]"
      ]
     },
     "execution_count": 16,
     "metadata": {},
     "output_type": "execute_result"
    }
   ],
   "source": [
    "invalid_trans"
   ]
  },
  {
   "cell_type": "code",
   "execution_count": 17,
   "id": "992ea5ba-74e9-406a-a437-1be8d35aacdc",
   "metadata": {},
   "outputs": [
    {
     "name": "stderr",
     "output_type": "stream",
     "text": [
      "/tmp/ipykernel_9177/938719868.py:7: FutureWarning: The frame.append method is deprecated and will be removed from pandas in a future version. Use pandas.concat instead.\n",
      "  trans_final = trans_gpby.append(df)\n"
     ]
    }
   ],
   "source": [
    "# Adding customer_id with 0 transaction to the dataframe\n",
    "df = pd.DataFrame({\n",
    "                  \"customer_id\": customer_with_no_trans,\n",
    "                  \"list_price\" : np.nan\n",
    "})\n",
    "\n",
    "trans_final = trans_gpby.append(df)"
   ]
  },
  {
   "cell_type": "code",
   "execution_count": 18,
   "id": "551dd966-e426-4721-8eba-3cd21b3ef7e9",
   "metadata": {},
   "outputs": [],
   "source": [
    "trans_final = trans_final.drop(labels = list(trans_final[trans_final['customer_id'] == 5034].index))"
   ]
  },
  {
   "cell_type": "code",
   "execution_count": 19,
   "id": "46aaeb97-ebc0-4612-82b5-19535aa2d079",
   "metadata": {},
   "outputs": [
    {
     "data": {
      "text/html": [
       "<div>\n",
       "<style scoped>\n",
       "    .dataframe tbody tr th:only-of-type {\n",
       "        vertical-align: middle;\n",
       "    }\n",
       "\n",
       "    .dataframe tbody tr th {\n",
       "        vertical-align: top;\n",
       "    }\n",
       "\n",
       "    .dataframe thead th {\n",
       "        text-align: right;\n",
       "    }\n",
       "</style>\n",
       "<table border=\"1\" class=\"dataframe\">\n",
       "  <thead>\n",
       "    <tr style=\"text-align: right;\">\n",
       "      <th></th>\n",
       "      <th>customer_id</th>\n",
       "      <th>list_price</th>\n",
       "    </tr>\n",
       "  </thead>\n",
       "  <tbody>\n",
       "    <tr>\n",
       "      <th>0</th>\n",
       "      <td>1</td>\n",
       "      <td>9084.45</td>\n",
       "    </tr>\n",
       "    <tr>\n",
       "      <th>1</th>\n",
       "      <td>2</td>\n",
       "      <td>4149.07</td>\n",
       "    </tr>\n",
       "    <tr>\n",
       "      <th>2</th>\n",
       "      <td>3</td>\n",
       "      <td>9888.23</td>\n",
       "    </tr>\n",
       "    <tr>\n",
       "      <th>3</th>\n",
       "      <td>4</td>\n",
       "      <td>1047.72</td>\n",
       "    </tr>\n",
       "    <tr>\n",
       "      <th>4</th>\n",
       "      <td>5</td>\n",
       "      <td>5903.20</td>\n",
       "    </tr>\n",
       "  </tbody>\n",
       "</table>\n",
       "</div>"
      ],
      "text/plain": [
       "   customer_id  list_price\n",
       "0            1     9084.45\n",
       "1            2     4149.07\n",
       "2            3     9888.23\n",
       "3            4     1047.72\n",
       "4            5     5903.20"
      ]
     },
     "execution_count": 19,
     "metadata": {},
     "output_type": "execute_result"
    }
   ],
   "source": [
    "trans_final.head()"
   ]
  },
  {
   "cell_type": "code",
   "execution_count": 20,
   "id": "843c2753-c67a-465f-8831-a8961ad5dea1",
   "metadata": {},
   "outputs": [
    {
     "name": "stdout",
     "output_type": "stream",
     "text": [
      "(4000, 2)\n"
     ]
    }
   ],
   "source": [
    "trans1 = trans_final\n",
    "print(trans1.shape)"
   ]
  },
  {
   "cell_type": "markdown",
   "id": "b0ddd203-4160-46df-9a93-6ab7577e4a49",
   "metadata": {
    "tags": []
   },
   "source": [
    "#### Address"
   ]
  },
  {
   "cell_type": "code",
   "execution_count": 21,
   "id": "1bbeffa7-b6ae-4593-8f6b-598935435282",
   "metadata": {},
   "outputs": [],
   "source": [
    "add_id = tuple(add['customer_id'])"
   ]
  },
  {
   "cell_type": "code",
   "execution_count": 22,
   "id": "6a2a287b-7a44-471b-bf1c-3775b48a584c",
   "metadata": {},
   "outputs": [],
   "source": [
    "invalid_customer_idx = []\n",
    "\n",
    "for i in add_id:\n",
    "    \n",
    "    if i not in demo_id:\n",
    "        invalid_customer_idx.append(add[add['customer_id'] == i].index[0])"
   ]
  },
  {
   "cell_type": "code",
   "execution_count": 23,
   "id": "d1fd0c8b-b54e-4a8d-8763-5588ecb00c2e",
   "metadata": {},
   "outputs": [
    {
     "data": {
      "text/plain": [
       "[3996, 3997, 3998]"
      ]
     },
     "execution_count": 23,
     "metadata": {},
     "output_type": "execute_result"
    }
   ],
   "source": [
    "invalid_customer_idx"
   ]
  },
  {
   "cell_type": "code",
   "execution_count": 24,
   "id": "c6e59e5a-9727-430b-b36c-bd212ad744f4",
   "metadata": {},
   "outputs": [],
   "source": [
    "add1 = add.drop(labels = invalid_customer_idx)"
   ]
  },
  {
   "cell_type": "code",
   "execution_count": 25,
   "id": "38326cbe-9322-4714-b157-24cd36b7c579",
   "metadata": {},
   "outputs": [],
   "source": [
    "add_id = tuple(add1['customer_id'])\n",
    "\n",
    "customer_with_no_add = []\n",
    "\n",
    "for j in demo_id:\n",
    "    \n",
    "    if j not in add_id:\n",
    "        \n",
    "        customer_with_no_add.append(j)"
   ]
  },
  {
   "cell_type": "code",
   "execution_count": 26,
   "id": "0ae26c73-cc99-4391-83e3-613c92ab8e3d",
   "metadata": {},
   "outputs": [
    {
     "data": {
      "text/plain": [
       "[3, 22, 10, 23]"
      ]
     },
     "execution_count": 26,
     "metadata": {},
     "output_type": "execute_result"
    }
   ],
   "source": [
    "customer_with_no_add"
   ]
  },
  {
   "cell_type": "code",
   "execution_count": 27,
   "id": "b480f67a-4111-4a39-8234-6253df004b70",
   "metadata": {},
   "outputs": [
    {
     "data": {
      "text/plain": [
       "(3996, 6)"
      ]
     },
     "execution_count": 27,
     "metadata": {},
     "output_type": "execute_result"
    }
   ],
   "source": [
    "add1.shape"
   ]
  },
  {
   "cell_type": "code",
   "execution_count": 28,
   "id": "0e3c4b90-885b-4328-b509-c69f301a0706",
   "metadata": {},
   "outputs": [
    {
     "data": {
      "text/html": [
       "<div>\n",
       "<style scoped>\n",
       "    .dataframe tbody tr th:only-of-type {\n",
       "        vertical-align: middle;\n",
       "    }\n",
       "\n",
       "    .dataframe tbody tr th {\n",
       "        vertical-align: top;\n",
       "    }\n",
       "\n",
       "    .dataframe thead th {\n",
       "        text-align: right;\n",
       "    }\n",
       "</style>\n",
       "<table border=\"1\" class=\"dataframe\">\n",
       "  <thead>\n",
       "    <tr style=\"text-align: right;\">\n",
       "      <th></th>\n",
       "      <th>customer_id</th>\n",
       "      <th>address</th>\n",
       "      <th>postcode</th>\n",
       "      <th>state</th>\n",
       "      <th>country</th>\n",
       "      <th>property_valuation</th>\n",
       "    </tr>\n",
       "  </thead>\n",
       "  <tbody>\n",
       "    <tr>\n",
       "      <th>0</th>\n",
       "      <td>1</td>\n",
       "      <td>060 Morning Avenue</td>\n",
       "      <td>2016</td>\n",
       "      <td>New South Wales</td>\n",
       "      <td>Australia</td>\n",
       "      <td>10</td>\n",
       "    </tr>\n",
       "    <tr>\n",
       "      <th>1</th>\n",
       "      <td>2</td>\n",
       "      <td>6 Meadow Vale Court</td>\n",
       "      <td>2153</td>\n",
       "      <td>New South Wales</td>\n",
       "      <td>Australia</td>\n",
       "      <td>10</td>\n",
       "    </tr>\n",
       "    <tr>\n",
       "      <th>2</th>\n",
       "      <td>4</td>\n",
       "      <td>0 Holy Cross Court</td>\n",
       "      <td>4211</td>\n",
       "      <td>QLD</td>\n",
       "      <td>Australia</td>\n",
       "      <td>9</td>\n",
       "    </tr>\n",
       "    <tr>\n",
       "      <th>3</th>\n",
       "      <td>5</td>\n",
       "      <td>17979 Del Mar Point</td>\n",
       "      <td>2448</td>\n",
       "      <td>New South Wales</td>\n",
       "      <td>Australia</td>\n",
       "      <td>4</td>\n",
       "    </tr>\n",
       "    <tr>\n",
       "      <th>4</th>\n",
       "      <td>6</td>\n",
       "      <td>9 Oakridge Court</td>\n",
       "      <td>3216</td>\n",
       "      <td>VIC</td>\n",
       "      <td>Australia</td>\n",
       "      <td>9</td>\n",
       "    </tr>\n",
       "  </tbody>\n",
       "</table>\n",
       "</div>"
      ],
      "text/plain": [
       "   customer_id              address  postcode            state    country  \\\n",
       "0            1   060 Morning Avenue      2016  New South Wales  Australia   \n",
       "1            2  6 Meadow Vale Court      2153  New South Wales  Australia   \n",
       "2            4   0 Holy Cross Court      4211              QLD  Australia   \n",
       "3            5  17979 Del Mar Point      2448  New South Wales  Australia   \n",
       "4            6     9 Oakridge Court      3216              VIC  Australia   \n",
       "\n",
       "   property_valuation  \n",
       "0                  10  \n",
       "1                  10  \n",
       "2                   9  \n",
       "3                   4  \n",
       "4                   9  "
      ]
     },
     "execution_count": 28,
     "metadata": {},
     "output_type": "execute_result"
    }
   ],
   "source": [
    "add1.head()"
   ]
  },
  {
   "cell_type": "code",
   "execution_count": 29,
   "id": "4bf17d5a-8019-469d-8753-76becd20f680",
   "metadata": {},
   "outputs": [],
   "source": [
    "df_add = pd.DataFrame({\n",
    "                       \"customer_id\" : customer_with_no_add,\n",
    "                       \"address\" : np.nan,\n",
    "                       \"postcode\" : np.nan,\n",
    "                       \"state\" : np.nan,\n",
    "                       \"country\" : np.nan,\n",
    "                       \"property_valuation\" : np.nan})\n",
    "\n",
    "add_final = pd.concat([add1, df_add])"
   ]
  },
  {
   "cell_type": "code",
   "execution_count": 30,
   "id": "6481a52f-41c3-4529-a236-69c43d13a29b",
   "metadata": {},
   "outputs": [
    {
     "data": {
      "text/plain": [
       "(4000, 6)"
      ]
     },
     "execution_count": 30,
     "metadata": {},
     "output_type": "execute_result"
    }
   ],
   "source": [
    "add_final.shape"
   ]
  },
  {
   "cell_type": "markdown",
   "id": "5a9ce9ff-e7ff-4954-92f6-cea8c5d5949a",
   "metadata": {},
   "source": [
    "### Joining the datasets"
   ]
  },
  {
   "cell_type": "code",
   "execution_count": 31,
   "id": "1455ae4c-0022-4f2f-9b1c-602b146f6b10",
   "metadata": {},
   "outputs": [
    {
     "data": {
      "text/html": [
       "<div>\n",
       "<style scoped>\n",
       "    .dataframe tbody tr th:only-of-type {\n",
       "        vertical-align: middle;\n",
       "    }\n",
       "\n",
       "    .dataframe tbody tr th {\n",
       "        vertical-align: top;\n",
       "    }\n",
       "\n",
       "    .dataframe thead th {\n",
       "        text-align: right;\n",
       "    }\n",
       "</style>\n",
       "<table border=\"1\" class=\"dataframe\">\n",
       "  <thead>\n",
       "    <tr style=\"text-align: right;\">\n",
       "      <th></th>\n",
       "      <th>customer_id</th>\n",
       "      <th>gender</th>\n",
       "      <th>past_3_years_bike_related_purchases</th>\n",
       "      <th>DOB</th>\n",
       "      <th>wealth_segment</th>\n",
       "      <th>deceased_indicator</th>\n",
       "      <th>owns_car</th>\n",
       "      <th>tenure</th>\n",
       "      <th>list_price</th>\n",
       "    </tr>\n",
       "  </thead>\n",
       "  <tbody>\n",
       "    <tr>\n",
       "      <th>0</th>\n",
       "      <td>34</td>\n",
       "      <td>U</td>\n",
       "      <td>59</td>\n",
       "      <td>21/12/1843</td>\n",
       "      <td>Affluent Customer</td>\n",
       "      <td>N</td>\n",
       "      <td>No</td>\n",
       "      <td>20.0</td>\n",
       "      <td>13133.00</td>\n",
       "    </tr>\n",
       "    <tr>\n",
       "      <th>1</th>\n",
       "      <td>720</td>\n",
       "      <td>Male</td>\n",
       "      <td>67</td>\n",
       "      <td>23/10/1931</td>\n",
       "      <td>Affluent Customer</td>\n",
       "      <td>N</td>\n",
       "      <td>No</td>\n",
       "      <td>6.0</td>\n",
       "      <td>13004.35</td>\n",
       "    </tr>\n",
       "    <tr>\n",
       "      <th>2</th>\n",
       "      <td>1092</td>\n",
       "      <td>Female</td>\n",
       "      <td>56</td>\n",
       "      <td>22/08/1935</td>\n",
       "      <td>Mass Customer</td>\n",
       "      <td>N</td>\n",
       "      <td>No</td>\n",
       "      <td>5.0</td>\n",
       "      <td>4893.72</td>\n",
       "    </tr>\n",
       "    <tr>\n",
       "      <th>3</th>\n",
       "      <td>3410</td>\n",
       "      <td>Female</td>\n",
       "      <td>93</td>\n",
       "      <td>22/09/1940</td>\n",
       "      <td>Mass Customer</td>\n",
       "      <td>N</td>\n",
       "      <td>No</td>\n",
       "      <td>16.0</td>\n",
       "      <td>2965.89</td>\n",
       "    </tr>\n",
       "    <tr>\n",
       "      <th>4</th>\n",
       "      <td>2413</td>\n",
       "      <td>Male</td>\n",
       "      <td>27</td>\n",
       "      <td>11/08/1943</td>\n",
       "      <td>High Net Worth</td>\n",
       "      <td>N</td>\n",
       "      <td>Yes</td>\n",
       "      <td>17.0</td>\n",
       "      <td>8666.87</td>\n",
       "    </tr>\n",
       "  </tbody>\n",
       "</table>\n",
       "</div>"
      ],
      "text/plain": [
       "   customer_id  gender  past_3_years_bike_related_purchases         DOB  \\\n",
       "0           34       U                                   59  21/12/1843   \n",
       "1          720    Male                                   67  23/10/1931   \n",
       "2         1092  Female                                   56  22/08/1935   \n",
       "3         3410  Female                                   93  22/09/1940   \n",
       "4         2413    Male                                   27  11/08/1943   \n",
       "\n",
       "      wealth_segment deceased_indicator owns_car  tenure  list_price  \n",
       "0  Affluent Customer                  N       No    20.0    13133.00  \n",
       "1  Affluent Customer                  N       No     6.0    13004.35  \n",
       "2      Mass Customer                  N       No     5.0     4893.72  \n",
       "3      Mass Customer                  N       No    16.0     2965.89  \n",
       "4     High Net Worth                  N      Yes    17.0     8666.87  "
      ]
     },
     "execution_count": 31,
     "metadata": {},
     "output_type": "execute_result"
    }
   ],
   "source": [
    "demo_trans = demo1.merge(trans1[['customer_id', 'list_price']], on = 'customer_id', how = 'left')\n",
    "demo_trans.head()"
   ]
  },
  {
   "cell_type": "code",
   "execution_count": 32,
   "id": "3ad54924-eb19-407b-91fd-c01bf0cb894e",
   "metadata": {},
   "outputs": [
    {
     "data": {
      "text/plain": [
       "(4000, 9)"
      ]
     },
     "execution_count": 32,
     "metadata": {},
     "output_type": "execute_result"
    }
   ],
   "source": [
    "demo_trans.shape"
   ]
  },
  {
   "cell_type": "code",
   "execution_count": 33,
   "id": "07eb670c-b50c-427f-8e29-dfe23471ed33",
   "metadata": {},
   "outputs": [
    {
     "data": {
      "text/html": [
       "<div>\n",
       "<style scoped>\n",
       "    .dataframe tbody tr th:only-of-type {\n",
       "        vertical-align: middle;\n",
       "    }\n",
       "\n",
       "    .dataframe tbody tr th {\n",
       "        vertical-align: top;\n",
       "    }\n",
       "\n",
       "    .dataframe thead th {\n",
       "        text-align: right;\n",
       "    }\n",
       "</style>\n",
       "<table border=\"1\" class=\"dataframe\">\n",
       "  <thead>\n",
       "    <tr style=\"text-align: right;\">\n",
       "      <th></th>\n",
       "      <th>customer_id</th>\n",
       "      <th>gender</th>\n",
       "      <th>past_3_years_bike_related_purchases</th>\n",
       "      <th>DOB</th>\n",
       "      <th>wealth_segment</th>\n",
       "      <th>deceased_indicator</th>\n",
       "      <th>owns_car</th>\n",
       "      <th>tenure</th>\n",
       "      <th>list_price</th>\n",
       "      <th>address</th>\n",
       "      <th>postcode</th>\n",
       "      <th>state</th>\n",
       "      <th>country</th>\n",
       "      <th>property_valuation</th>\n",
       "    </tr>\n",
       "  </thead>\n",
       "  <tbody>\n",
       "    <tr>\n",
       "      <th>0</th>\n",
       "      <td>34</td>\n",
       "      <td>U</td>\n",
       "      <td>59</td>\n",
       "      <td>21/12/1843</td>\n",
       "      <td>Affluent Customer</td>\n",
       "      <td>N</td>\n",
       "      <td>No</td>\n",
       "      <td>20.0</td>\n",
       "      <td>13133.00</td>\n",
       "      <td>833 Luster Way</td>\n",
       "      <td>4005.0</td>\n",
       "      <td>QLD</td>\n",
       "      <td>Australia</td>\n",
       "      <td>8.0</td>\n",
       "    </tr>\n",
       "    <tr>\n",
       "      <th>1</th>\n",
       "      <td>720</td>\n",
       "      <td>Male</td>\n",
       "      <td>67</td>\n",
       "      <td>23/10/1931</td>\n",
       "      <td>Affluent Customer</td>\n",
       "      <td>N</td>\n",
       "      <td>No</td>\n",
       "      <td>6.0</td>\n",
       "      <td>13004.35</td>\n",
       "      <td>78 Glacier Hill Drive</td>\n",
       "      <td>2026.0</td>\n",
       "      <td>NSW</td>\n",
       "      <td>Australia</td>\n",
       "      <td>10.0</td>\n",
       "    </tr>\n",
       "    <tr>\n",
       "      <th>2</th>\n",
       "      <td>1092</td>\n",
       "      <td>Female</td>\n",
       "      <td>56</td>\n",
       "      <td>22/08/1935</td>\n",
       "      <td>Mass Customer</td>\n",
       "      <td>N</td>\n",
       "      <td>No</td>\n",
       "      <td>5.0</td>\n",
       "      <td>4893.72</td>\n",
       "      <td>5515 Artisan Center</td>\n",
       "      <td>3337.0</td>\n",
       "      <td>VIC</td>\n",
       "      <td>Australia</td>\n",
       "      <td>3.0</td>\n",
       "    </tr>\n",
       "    <tr>\n",
       "      <th>3</th>\n",
       "      <td>3410</td>\n",
       "      <td>Female</td>\n",
       "      <td>93</td>\n",
       "      <td>22/09/1940</td>\n",
       "      <td>Mass Customer</td>\n",
       "      <td>N</td>\n",
       "      <td>No</td>\n",
       "      <td>16.0</td>\n",
       "      <td>2965.89</td>\n",
       "      <td>1351 Lunder Road</td>\n",
       "      <td>2049.0</td>\n",
       "      <td>NSW</td>\n",
       "      <td>Australia</td>\n",
       "      <td>10.0</td>\n",
       "    </tr>\n",
       "    <tr>\n",
       "      <th>4</th>\n",
       "      <td>2413</td>\n",
       "      <td>Male</td>\n",
       "      <td>27</td>\n",
       "      <td>11/08/1943</td>\n",
       "      <td>High Net Worth</td>\n",
       "      <td>N</td>\n",
       "      <td>Yes</td>\n",
       "      <td>17.0</td>\n",
       "      <td>8666.87</td>\n",
       "      <td>423 Debra Terrace</td>\n",
       "      <td>3082.0</td>\n",
       "      <td>VIC</td>\n",
       "      <td>Australia</td>\n",
       "      <td>8.0</td>\n",
       "    </tr>\n",
       "  </tbody>\n",
       "</table>\n",
       "</div>"
      ],
      "text/plain": [
       "   customer_id  gender  past_3_years_bike_related_purchases         DOB  \\\n",
       "0           34       U                                   59  21/12/1843   \n",
       "1          720    Male                                   67  23/10/1931   \n",
       "2         1092  Female                                   56  22/08/1935   \n",
       "3         3410  Female                                   93  22/09/1940   \n",
       "4         2413    Male                                   27  11/08/1943   \n",
       "\n",
       "      wealth_segment deceased_indicator owns_car  tenure  list_price  \\\n",
       "0  Affluent Customer                  N       No    20.0    13133.00   \n",
       "1  Affluent Customer                  N       No     6.0    13004.35   \n",
       "2      Mass Customer                  N       No     5.0     4893.72   \n",
       "3      Mass Customer                  N       No    16.0     2965.89   \n",
       "4     High Net Worth                  N      Yes    17.0     8666.87   \n",
       "\n",
       "                 address  postcode state    country  property_valuation  \n",
       "0         833 Luster Way    4005.0   QLD  Australia                 8.0  \n",
       "1  78 Glacier Hill Drive    2026.0   NSW  Australia                10.0  \n",
       "2    5515 Artisan Center    3337.0   VIC  Australia                 3.0  \n",
       "3       1351 Lunder Road    2049.0   NSW  Australia                10.0  \n",
       "4      423 Debra Terrace    3082.0   VIC  Australia                 8.0  "
      ]
     },
     "execution_count": 33,
     "metadata": {},
     "output_type": "execute_result"
    }
   ],
   "source": [
    "joined_df = demo_trans.merge(add_final[['customer_id','address', 'postcode', 'state', 'country', 'property_valuation']],\n",
    "                             on = 'customer_id', how = 'left')\n",
    "joined_df.head()"
   ]
  },
  {
   "cell_type": "code",
   "execution_count": 34,
   "id": "dcb3ce6d-4e54-405b-a606-5a9372c95f31",
   "metadata": {},
   "outputs": [
    {
     "data": {
      "text/plain": [
       "(4000, 14)"
      ]
     },
     "execution_count": 34,
     "metadata": {},
     "output_type": "execute_result"
    }
   ],
   "source": [
    "joined_df.shape"
   ]
  },
  {
   "cell_type": "markdown",
   "id": "d8436254-1863-43e3-94a5-4f50c0a84d25",
   "metadata": {
    "tags": []
   },
   "source": [
    "## 2. Data Preprocessing"
   ]
  },
  {
   "cell_type": "code",
   "execution_count": 35,
   "id": "4c2e4eee-f145-4720-85db-d255e01e110a",
   "metadata": {},
   "outputs": [
    {
     "data": {
      "text/html": [
       "<div>\n",
       "<style scoped>\n",
       "    .dataframe tbody tr th:only-of-type {\n",
       "        vertical-align: middle;\n",
       "    }\n",
       "\n",
       "    .dataframe tbody tr th {\n",
       "        vertical-align: top;\n",
       "    }\n",
       "\n",
       "    .dataframe thead th {\n",
       "        text-align: right;\n",
       "    }\n",
       "</style>\n",
       "<table border=\"1\" class=\"dataframe\">\n",
       "  <thead>\n",
       "    <tr style=\"text-align: right;\">\n",
       "      <th></th>\n",
       "      <th>customer_id</th>\n",
       "      <th>gender</th>\n",
       "      <th>past_3_years_bike_related_purchases</th>\n",
       "      <th>DOB</th>\n",
       "      <th>wealth_segment</th>\n",
       "      <th>deceased_indicator</th>\n",
       "      <th>owns_car</th>\n",
       "      <th>tenure</th>\n",
       "      <th>list_price</th>\n",
       "      <th>address</th>\n",
       "      <th>postcode</th>\n",
       "      <th>state</th>\n",
       "      <th>country</th>\n",
       "      <th>property_valuation</th>\n",
       "    </tr>\n",
       "  </thead>\n",
       "  <tbody>\n",
       "    <tr>\n",
       "      <th>0</th>\n",
       "      <td>34</td>\n",
       "      <td>U</td>\n",
       "      <td>59</td>\n",
       "      <td>21/12/1843</td>\n",
       "      <td>Affluent Customer</td>\n",
       "      <td>N</td>\n",
       "      <td>No</td>\n",
       "      <td>20.0</td>\n",
       "      <td>13133.00</td>\n",
       "      <td>833 Luster Way</td>\n",
       "      <td>4005.0</td>\n",
       "      <td>QLD</td>\n",
       "      <td>Australia</td>\n",
       "      <td>8.0</td>\n",
       "    </tr>\n",
       "    <tr>\n",
       "      <th>1</th>\n",
       "      <td>720</td>\n",
       "      <td>Male</td>\n",
       "      <td>67</td>\n",
       "      <td>23/10/1931</td>\n",
       "      <td>Affluent Customer</td>\n",
       "      <td>N</td>\n",
       "      <td>No</td>\n",
       "      <td>6.0</td>\n",
       "      <td>13004.35</td>\n",
       "      <td>78 Glacier Hill Drive</td>\n",
       "      <td>2026.0</td>\n",
       "      <td>NSW</td>\n",
       "      <td>Australia</td>\n",
       "      <td>10.0</td>\n",
       "    </tr>\n",
       "    <tr>\n",
       "      <th>2</th>\n",
       "      <td>1092</td>\n",
       "      <td>Female</td>\n",
       "      <td>56</td>\n",
       "      <td>22/08/1935</td>\n",
       "      <td>Mass Customer</td>\n",
       "      <td>N</td>\n",
       "      <td>No</td>\n",
       "      <td>5.0</td>\n",
       "      <td>4893.72</td>\n",
       "      <td>5515 Artisan Center</td>\n",
       "      <td>3337.0</td>\n",
       "      <td>VIC</td>\n",
       "      <td>Australia</td>\n",
       "      <td>3.0</td>\n",
       "    </tr>\n",
       "    <tr>\n",
       "      <th>3</th>\n",
       "      <td>3410</td>\n",
       "      <td>Female</td>\n",
       "      <td>93</td>\n",
       "      <td>22/09/1940</td>\n",
       "      <td>Mass Customer</td>\n",
       "      <td>N</td>\n",
       "      <td>No</td>\n",
       "      <td>16.0</td>\n",
       "      <td>2965.89</td>\n",
       "      <td>1351 Lunder Road</td>\n",
       "      <td>2049.0</td>\n",
       "      <td>NSW</td>\n",
       "      <td>Australia</td>\n",
       "      <td>10.0</td>\n",
       "    </tr>\n",
       "    <tr>\n",
       "      <th>4</th>\n",
       "      <td>2413</td>\n",
       "      <td>Male</td>\n",
       "      <td>27</td>\n",
       "      <td>11/08/1943</td>\n",
       "      <td>High Net Worth</td>\n",
       "      <td>N</td>\n",
       "      <td>Yes</td>\n",
       "      <td>17.0</td>\n",
       "      <td>8666.87</td>\n",
       "      <td>423 Debra Terrace</td>\n",
       "      <td>3082.0</td>\n",
       "      <td>VIC</td>\n",
       "      <td>Australia</td>\n",
       "      <td>8.0</td>\n",
       "    </tr>\n",
       "  </tbody>\n",
       "</table>\n",
       "</div>"
      ],
      "text/plain": [
       "   customer_id  gender  past_3_years_bike_related_purchases         DOB  \\\n",
       "0           34       U                                   59  21/12/1843   \n",
       "1          720    Male                                   67  23/10/1931   \n",
       "2         1092  Female                                   56  22/08/1935   \n",
       "3         3410  Female                                   93  22/09/1940   \n",
       "4         2413    Male                                   27  11/08/1943   \n",
       "\n",
       "      wealth_segment deceased_indicator owns_car  tenure  list_price  \\\n",
       "0  Affluent Customer                  N       No    20.0    13133.00   \n",
       "1  Affluent Customer                  N       No     6.0    13004.35   \n",
       "2      Mass Customer                  N       No     5.0     4893.72   \n",
       "3      Mass Customer                  N       No    16.0     2965.89   \n",
       "4     High Net Worth                  N      Yes    17.0     8666.87   \n",
       "\n",
       "                 address  postcode state    country  property_valuation  \n",
       "0         833 Luster Way    4005.0   QLD  Australia                 8.0  \n",
       "1  78 Glacier Hill Drive    2026.0   NSW  Australia                10.0  \n",
       "2    5515 Artisan Center    3337.0   VIC  Australia                 3.0  \n",
       "3       1351 Lunder Road    2049.0   NSW  Australia                10.0  \n",
       "4      423 Debra Terrace    3082.0   VIC  Australia                 8.0  "
      ]
     },
     "execution_count": 35,
     "metadata": {},
     "output_type": "execute_result"
    }
   ],
   "source": [
    "data = joined_df.copy()\n",
    "data.head()"
   ]
  },
  {
   "cell_type": "code",
   "execution_count": 36,
   "id": "d3d636a2-977c-4855-b267-6069bbcf2681",
   "metadata": {},
   "outputs": [
    {
     "name": "stdout",
     "output_type": "stream",
     "text": [
      "<class 'pandas.core.frame.DataFrame'>\n",
      "Int64Index: 4000 entries, 0 to 3999\n",
      "Data columns (total 14 columns):\n",
      " #   Column                               Non-Null Count  Dtype  \n",
      "---  ------                               --------------  -----  \n",
      " 0   customer_id                          4000 non-null   int64  \n",
      " 1   gender                               4000 non-null   object \n",
      " 2   past_3_years_bike_related_purchases  4000 non-null   int64  \n",
      " 3   DOB                                  3913 non-null   object \n",
      " 4   wealth_segment                       4000 non-null   object \n",
      " 5   deceased_indicator                   4000 non-null   object \n",
      " 6   owns_car                             4000 non-null   object \n",
      " 7   tenure                               3913 non-null   float64\n",
      " 8   list_price                           3493 non-null   float64\n",
      " 9   address                              3996 non-null   object \n",
      " 10  postcode                             3996 non-null   float64\n",
      " 11  state                                3996 non-null   object \n",
      " 12  country                              3996 non-null   object \n",
      " 13  property_valuation                   3996 non-null   float64\n",
      "dtypes: float64(4), int64(2), object(8)\n",
      "memory usage: 468.8+ KB\n"
     ]
    }
   ],
   "source": [
    "data.info()"
   ]
  },
  {
   "cell_type": "code",
   "execution_count": 37,
   "id": "4d9221a0-a362-458d-813d-7d941ff7718a",
   "metadata": {},
   "outputs": [
    {
     "data": {
      "text/plain": [
       "customer_id                              0\n",
       "gender                                   0\n",
       "past_3_years_bike_related_purchases      0\n",
       "DOB                                     87\n",
       "wealth_segment                           0\n",
       "deceased_indicator                       0\n",
       "owns_car                                 0\n",
       "tenure                                  87\n",
       "list_price                             507\n",
       "address                                  4\n",
       "postcode                                 4\n",
       "state                                    4\n",
       "country                                  4\n",
       "property_valuation                       4\n",
       "dtype: int64"
      ]
     },
     "execution_count": 37,
     "metadata": {},
     "output_type": "execute_result"
    }
   ],
   "source": [
    "data.isnull().sum()"
   ]
  },
  {
   "cell_type": "code",
   "execution_count": 38,
   "id": "2c97edc4-7598-4bb5-b40c-9a95124cfb0e",
   "metadata": {},
   "outputs": [],
   "source": [
    "from datetime import datetime, date\n",
    "\n",
    "def calculate_age(born):\n",
    "    if type(born) != float:\n",
    "        \n",
    "        born = datetime.strptime(born, \"%d/%m/%Y\").date()\n",
    "        today = date.today()\n",
    "        return today.year - born.year - ((today.month, today.day) < (born.month, born.day))\n",
    "    \n",
    "    else:\n",
    "        return 0\n",
    "\n",
    "data['age'] = data['DOB'].apply(calculate_age)\n",
    "data.drop(columns = ['DOB'], inplace = True)"
   ]
  },
  {
   "cell_type": "code",
   "execution_count": 39,
   "id": "1d87d5f8-e362-4231-9247-598913f09fca",
   "metadata": {},
   "outputs": [
    {
     "data": {
      "text/html": [
       "<div>\n",
       "<style scoped>\n",
       "    .dataframe tbody tr th:only-of-type {\n",
       "        vertical-align: middle;\n",
       "    }\n",
       "\n",
       "    .dataframe tbody tr th {\n",
       "        vertical-align: top;\n",
       "    }\n",
       "\n",
       "    .dataframe thead th {\n",
       "        text-align: right;\n",
       "    }\n",
       "</style>\n",
       "<table border=\"1\" class=\"dataframe\">\n",
       "  <thead>\n",
       "    <tr style=\"text-align: right;\">\n",
       "      <th></th>\n",
       "      <th>customer_id</th>\n",
       "      <th>gender</th>\n",
       "      <th>past_3_years_bike_related_purchases</th>\n",
       "      <th>wealth_segment</th>\n",
       "      <th>deceased_indicator</th>\n",
       "      <th>owns_car</th>\n",
       "      <th>tenure</th>\n",
       "      <th>list_price</th>\n",
       "      <th>address</th>\n",
       "      <th>postcode</th>\n",
       "      <th>state</th>\n",
       "      <th>country</th>\n",
       "      <th>property_valuation</th>\n",
       "      <th>age</th>\n",
       "    </tr>\n",
       "  </thead>\n",
       "  <tbody>\n",
       "    <tr>\n",
       "      <th>0</th>\n",
       "      <td>34</td>\n",
       "      <td>U</td>\n",
       "      <td>59</td>\n",
       "      <td>Affluent Customer</td>\n",
       "      <td>N</td>\n",
       "      <td>No</td>\n",
       "      <td>20.0</td>\n",
       "      <td>13133.00</td>\n",
       "      <td>833 Luster Way</td>\n",
       "      <td>4005.0</td>\n",
       "      <td>QLD</td>\n",
       "      <td>Australia</td>\n",
       "      <td>8.0</td>\n",
       "      <td>179</td>\n",
       "    </tr>\n",
       "    <tr>\n",
       "      <th>1</th>\n",
       "      <td>720</td>\n",
       "      <td>Male</td>\n",
       "      <td>67</td>\n",
       "      <td>Affluent Customer</td>\n",
       "      <td>N</td>\n",
       "      <td>No</td>\n",
       "      <td>6.0</td>\n",
       "      <td>13004.35</td>\n",
       "      <td>78 Glacier Hill Drive</td>\n",
       "      <td>2026.0</td>\n",
       "      <td>NSW</td>\n",
       "      <td>Australia</td>\n",
       "      <td>10.0</td>\n",
       "      <td>91</td>\n",
       "    </tr>\n",
       "    <tr>\n",
       "      <th>2</th>\n",
       "      <td>1092</td>\n",
       "      <td>Female</td>\n",
       "      <td>56</td>\n",
       "      <td>Mass Customer</td>\n",
       "      <td>N</td>\n",
       "      <td>No</td>\n",
       "      <td>5.0</td>\n",
       "      <td>4893.72</td>\n",
       "      <td>5515 Artisan Center</td>\n",
       "      <td>3337.0</td>\n",
       "      <td>VIC</td>\n",
       "      <td>Australia</td>\n",
       "      <td>3.0</td>\n",
       "      <td>87</td>\n",
       "    </tr>\n",
       "    <tr>\n",
       "      <th>3</th>\n",
       "      <td>3410</td>\n",
       "      <td>Female</td>\n",
       "      <td>93</td>\n",
       "      <td>Mass Customer</td>\n",
       "      <td>N</td>\n",
       "      <td>No</td>\n",
       "      <td>16.0</td>\n",
       "      <td>2965.89</td>\n",
       "      <td>1351 Lunder Road</td>\n",
       "      <td>2049.0</td>\n",
       "      <td>NSW</td>\n",
       "      <td>Australia</td>\n",
       "      <td>10.0</td>\n",
       "      <td>82</td>\n",
       "    </tr>\n",
       "    <tr>\n",
       "      <th>4</th>\n",
       "      <td>2413</td>\n",
       "      <td>Male</td>\n",
       "      <td>27</td>\n",
       "      <td>High Net Worth</td>\n",
       "      <td>N</td>\n",
       "      <td>Yes</td>\n",
       "      <td>17.0</td>\n",
       "      <td>8666.87</td>\n",
       "      <td>423 Debra Terrace</td>\n",
       "      <td>3082.0</td>\n",
       "      <td>VIC</td>\n",
       "      <td>Australia</td>\n",
       "      <td>8.0</td>\n",
       "      <td>79</td>\n",
       "    </tr>\n",
       "  </tbody>\n",
       "</table>\n",
       "</div>"
      ],
      "text/plain": [
       "   customer_id  gender  past_3_years_bike_related_purchases  \\\n",
       "0           34       U                                   59   \n",
       "1          720    Male                                   67   \n",
       "2         1092  Female                                   56   \n",
       "3         3410  Female                                   93   \n",
       "4         2413    Male                                   27   \n",
       "\n",
       "      wealth_segment deceased_indicator owns_car  tenure  list_price  \\\n",
       "0  Affluent Customer                  N       No    20.0    13133.00   \n",
       "1  Affluent Customer                  N       No     6.0    13004.35   \n",
       "2      Mass Customer                  N       No     5.0     4893.72   \n",
       "3      Mass Customer                  N       No    16.0     2965.89   \n",
       "4     High Net Worth                  N      Yes    17.0     8666.87   \n",
       "\n",
       "                 address  postcode state    country  property_valuation  age  \n",
       "0         833 Luster Way    4005.0   QLD  Australia                 8.0  179  \n",
       "1  78 Glacier Hill Drive    2026.0   NSW  Australia                10.0   91  \n",
       "2    5515 Artisan Center    3337.0   VIC  Australia                 3.0   87  \n",
       "3       1351 Lunder Road    2049.0   NSW  Australia                10.0   82  \n",
       "4      423 Debra Terrace    3082.0   VIC  Australia                 8.0   79  "
      ]
     },
     "execution_count": 39,
     "metadata": {},
     "output_type": "execute_result"
    }
   ],
   "source": [
    "data.head()"
   ]
  },
  {
   "cell_type": "code",
   "execution_count": 40,
   "id": "6e8429e1-0b8c-41bd-8e3f-42dcd21fa427",
   "metadata": {},
   "outputs": [],
   "source": [
    "def age_group(a):\n",
    "    \n",
    "    if 10 <= a < 20:\n",
    "        return \"10-20\"\n",
    "    \n",
    "    elif 20 <= a < 30:\n",
    "        return \"20-30\"\n",
    "    \n",
    "    elif 30 <= a < 40:\n",
    "        return \"30-40\"\n",
    "    \n",
    "    elif 40 <= a < 50:\n",
    "        return \"40-50\"\n",
    "    \n",
    "    elif 50 <= a < 60:\n",
    "        return \"50-60\"\n",
    "    \n",
    "    elif 60 <= a < 70:\n",
    "        return \"60-70\"\n",
    "    \n",
    "    elif 70 <= a < 80:\n",
    "        return \"70-80\"\n",
    "    \n",
    "    elif 80 <= a < 90:\n",
    "        return \"80-90\"\n",
    "    \n",
    "    elif 90 <= a < 100:\n",
    "        return \"90-100\"\n",
    "    \n",
    "    else:\n",
    "        return \"Not Available\"\n",
    "    \n",
    "data['age_group'] = data['age'].apply(age_group)\n",
    "data.drop(columns = ['age'], inplace = True )"
   ]
  },
  {
   "cell_type": "code",
   "execution_count": 41,
   "id": "4eceb31b-76d9-4646-9c21-8b3d61948f7c",
   "metadata": {},
   "outputs": [
    {
     "data": {
      "text/html": [
       "<div>\n",
       "<style scoped>\n",
       "    .dataframe tbody tr th:only-of-type {\n",
       "        vertical-align: middle;\n",
       "    }\n",
       "\n",
       "    .dataframe tbody tr th {\n",
       "        vertical-align: top;\n",
       "    }\n",
       "\n",
       "    .dataframe thead th {\n",
       "        text-align: right;\n",
       "    }\n",
       "</style>\n",
       "<table border=\"1\" class=\"dataframe\">\n",
       "  <thead>\n",
       "    <tr style=\"text-align: right;\">\n",
       "      <th></th>\n",
       "      <th>customer_id</th>\n",
       "      <th>gender</th>\n",
       "      <th>past_3_years_bike_related_purchases</th>\n",
       "      <th>wealth_segment</th>\n",
       "      <th>deceased_indicator</th>\n",
       "      <th>owns_car</th>\n",
       "      <th>tenure</th>\n",
       "      <th>list_price</th>\n",
       "      <th>address</th>\n",
       "      <th>postcode</th>\n",
       "      <th>state</th>\n",
       "      <th>country</th>\n",
       "      <th>property_valuation</th>\n",
       "      <th>age_group</th>\n",
       "    </tr>\n",
       "  </thead>\n",
       "  <tbody>\n",
       "    <tr>\n",
       "      <th>0</th>\n",
       "      <td>34</td>\n",
       "      <td>U</td>\n",
       "      <td>59</td>\n",
       "      <td>Affluent Customer</td>\n",
       "      <td>N</td>\n",
       "      <td>No</td>\n",
       "      <td>20.0</td>\n",
       "      <td>13133.00</td>\n",
       "      <td>833 Luster Way</td>\n",
       "      <td>4005.0</td>\n",
       "      <td>QLD</td>\n",
       "      <td>Australia</td>\n",
       "      <td>8.0</td>\n",
       "      <td>Not Available</td>\n",
       "    </tr>\n",
       "    <tr>\n",
       "      <th>1</th>\n",
       "      <td>720</td>\n",
       "      <td>Male</td>\n",
       "      <td>67</td>\n",
       "      <td>Affluent Customer</td>\n",
       "      <td>N</td>\n",
       "      <td>No</td>\n",
       "      <td>6.0</td>\n",
       "      <td>13004.35</td>\n",
       "      <td>78 Glacier Hill Drive</td>\n",
       "      <td>2026.0</td>\n",
       "      <td>NSW</td>\n",
       "      <td>Australia</td>\n",
       "      <td>10.0</td>\n",
       "      <td>90-100</td>\n",
       "    </tr>\n",
       "    <tr>\n",
       "      <th>2</th>\n",
       "      <td>1092</td>\n",
       "      <td>Female</td>\n",
       "      <td>56</td>\n",
       "      <td>Mass Customer</td>\n",
       "      <td>N</td>\n",
       "      <td>No</td>\n",
       "      <td>5.0</td>\n",
       "      <td>4893.72</td>\n",
       "      <td>5515 Artisan Center</td>\n",
       "      <td>3337.0</td>\n",
       "      <td>VIC</td>\n",
       "      <td>Australia</td>\n",
       "      <td>3.0</td>\n",
       "      <td>80-90</td>\n",
       "    </tr>\n",
       "    <tr>\n",
       "      <th>3</th>\n",
       "      <td>3410</td>\n",
       "      <td>Female</td>\n",
       "      <td>93</td>\n",
       "      <td>Mass Customer</td>\n",
       "      <td>N</td>\n",
       "      <td>No</td>\n",
       "      <td>16.0</td>\n",
       "      <td>2965.89</td>\n",
       "      <td>1351 Lunder Road</td>\n",
       "      <td>2049.0</td>\n",
       "      <td>NSW</td>\n",
       "      <td>Australia</td>\n",
       "      <td>10.0</td>\n",
       "      <td>80-90</td>\n",
       "    </tr>\n",
       "    <tr>\n",
       "      <th>4</th>\n",
       "      <td>2413</td>\n",
       "      <td>Male</td>\n",
       "      <td>27</td>\n",
       "      <td>High Net Worth</td>\n",
       "      <td>N</td>\n",
       "      <td>Yes</td>\n",
       "      <td>17.0</td>\n",
       "      <td>8666.87</td>\n",
       "      <td>423 Debra Terrace</td>\n",
       "      <td>3082.0</td>\n",
       "      <td>VIC</td>\n",
       "      <td>Australia</td>\n",
       "      <td>8.0</td>\n",
       "      <td>70-80</td>\n",
       "    </tr>\n",
       "  </tbody>\n",
       "</table>\n",
       "</div>"
      ],
      "text/plain": [
       "   customer_id  gender  past_3_years_bike_related_purchases  \\\n",
       "0           34       U                                   59   \n",
       "1          720    Male                                   67   \n",
       "2         1092  Female                                   56   \n",
       "3         3410  Female                                   93   \n",
       "4         2413    Male                                   27   \n",
       "\n",
       "      wealth_segment deceased_indicator owns_car  tenure  list_price  \\\n",
       "0  Affluent Customer                  N       No    20.0    13133.00   \n",
       "1  Affluent Customer                  N       No     6.0    13004.35   \n",
       "2      Mass Customer                  N       No     5.0     4893.72   \n",
       "3      Mass Customer                  N       No    16.0     2965.89   \n",
       "4     High Net Worth                  N      Yes    17.0     8666.87   \n",
       "\n",
       "                 address  postcode state    country  property_valuation  \\\n",
       "0         833 Luster Way    4005.0   QLD  Australia                 8.0   \n",
       "1  78 Glacier Hill Drive    2026.0   NSW  Australia                10.0   \n",
       "2    5515 Artisan Center    3337.0   VIC  Australia                 3.0   \n",
       "3       1351 Lunder Road    2049.0   NSW  Australia                10.0   \n",
       "4      423 Debra Terrace    3082.0   VIC  Australia                 8.0   \n",
       "\n",
       "       age_group  \n",
       "0  Not Available  \n",
       "1         90-100  \n",
       "2          80-90  \n",
       "3          80-90  \n",
       "4          70-80  "
      ]
     },
     "execution_count": 41,
     "metadata": {},
     "output_type": "execute_result"
    }
   ],
   "source": [
    "data.head()"
   ]
  },
  {
   "cell_type": "code",
   "execution_count": 42,
   "id": "256359c2-2c61-4cba-8c00-1a52e5d1ab43",
   "metadata": {},
   "outputs": [
    {
     "data": {
      "text/plain": [
       "customer_id                              0\n",
       "gender                                   0\n",
       "past_3_years_bike_related_purchases      0\n",
       "wealth_segment                           0\n",
       "deceased_indicator                       0\n",
       "owns_car                                 0\n",
       "tenure                                  87\n",
       "list_price                             507\n",
       "address                                  4\n",
       "postcode                                 4\n",
       "state                                    4\n",
       "country                                  4\n",
       "property_valuation                       4\n",
       "age_group                                0\n",
       "dtype: int64"
      ]
     },
     "execution_count": 42,
     "metadata": {},
     "output_type": "execute_result"
    }
   ],
   "source": [
    "data.isnull().sum()"
   ]
  },
  {
   "cell_type": "code",
   "execution_count": 43,
   "id": "62751661-0902-42b8-87e8-c8a30f4cca82",
   "metadata": {},
   "outputs": [],
   "source": [
    "data['gender'] = data['gender'].replace({\"Female\" : \"F\" , \"Male\" : \"M\" , \"Femal\" : \"F\"})"
   ]
  },
  {
   "cell_type": "code",
   "execution_count": 44,
   "id": "118c7125-a3cf-48cb-a755-1b656c228b1d",
   "metadata": {},
   "outputs": [
    {
     "data": {
      "text/plain": [
       "array(['U', 'M', 'F'], dtype=object)"
      ]
     },
     "execution_count": 44,
     "metadata": {},
     "output_type": "execute_result"
    }
   ],
   "source": [
    "data['gender'].unique()"
   ]
  },
  {
   "cell_type": "code",
   "execution_count": 45,
   "id": "d7c8f145-69ac-41af-a69d-e0fde1a290b5",
   "metadata": {},
   "outputs": [],
   "source": [
    "data['state'] = data['state'].replace({\"Victoria\" : \"VIC\" , \"New South Wales\" : \"NSW\" })"
   ]
  },
  {
   "cell_type": "code",
   "execution_count": 46,
   "id": "e35d5306-5cba-4f0f-bfd2-7141b54d97d8",
   "metadata": {},
   "outputs": [
    {
     "data": {
      "text/plain": [
       "array(['QLD', 'NSW', 'VIC', nan], dtype=object)"
      ]
     },
     "execution_count": 46,
     "metadata": {},
     "output_type": "execute_result"
    }
   ],
   "source": [
    "data['state'].unique()"
   ]
  },
  {
   "cell_type": "code",
   "execution_count": 47,
   "id": "143ead09-6f25-4e8e-816f-c49d6a045392",
   "metadata": {},
   "outputs": [],
   "source": [
    "data.drop(columns = ['address'], inplace = True)"
   ]
  },
  {
   "cell_type": "markdown",
   "id": "e2fc557d-640c-43f5-bdeb-8a24c8bfdd95",
   "metadata": {},
   "source": [
    "### Filling Missing Values"
   ]
  },
  {
   "cell_type": "code",
   "execution_count": 48,
   "id": "72e60c6f-0546-45cd-ada6-e4a4bf2920b4",
   "metadata": {},
   "outputs": [],
   "source": [
    "postcode_mode = data['postcode'].mode()[0]\n",
    "state_mode = data['state'].mode()[0]\n",
    "country_mode = data['country'].mode()[0]\n",
    "\n",
    "#print(country_mode[0])"
   ]
  },
  {
   "cell_type": "code",
   "execution_count": 49,
   "id": "8842ad9d-d73f-42ec-a865-3d2ab75edda7",
   "metadata": {},
   "outputs": [],
   "source": [
    "data['postcode'] = data['postcode'].replace(np.nan , postcode_mode)\n",
    "data['state'] = data['state'].replace(np.nan , state_mode)\n",
    "data['country'] = data['country'].replace(np.nan , country_mode)"
   ]
  },
  {
   "cell_type": "code",
   "execution_count": 50,
   "id": "c82aeeb5-bcfe-4f53-b07f-efe574db2181",
   "metadata": {},
   "outputs": [],
   "source": [
    "prop_mean = data['property_valuation'].mean()\n",
    "data['property_valuation'] = data['property_valuation'].replace(np.nan , prop_mean)"
   ]
  },
  {
   "cell_type": "code",
   "execution_count": 51,
   "id": "9040ef12-3a8f-4287-809c-14739d1797de",
   "metadata": {},
   "outputs": [
    {
     "data": {
      "text/plain": [
       "customer_id                              0\n",
       "gender                                   0\n",
       "past_3_years_bike_related_purchases      0\n",
       "wealth_segment                           0\n",
       "deceased_indicator                       0\n",
       "owns_car                                 0\n",
       "tenure                                  87\n",
       "list_price                             507\n",
       "postcode                                 0\n",
       "state                                    0\n",
       "country                                  0\n",
       "property_valuation                       0\n",
       "age_group                                0\n",
       "dtype: int64"
      ]
     },
     "execution_count": 51,
     "metadata": {},
     "output_type": "execute_result"
    }
   ],
   "source": [
    "data.isnull().sum()"
   ]
  },
  {
   "cell_type": "code",
   "execution_count": 53,
   "id": "cf2aa04b-63bf-492c-96c8-2030d4b016c2",
   "metadata": {},
   "outputs": [],
   "source": [
    "data.to_csv(\"preprocessed_data.csv\" , index = False)"
   ]
  },
  {
   "cell_type": "markdown",
   "id": "2ac9c7b7-0d83-43c4-b9f0-ccddb515d941",
   "metadata": {},
   "source": [
    "## Data Modelling"
   ]
  },
  {
   "cell_type": "code",
   "execution_count": 2,
   "id": "839b5572-0443-42e4-8fc5-a61ef5deaa3e",
   "metadata": {},
   "outputs": [
    {
     "data": {
      "text/html": [
       "<div>\n",
       "<style scoped>\n",
       "    .dataframe tbody tr th:only-of-type {\n",
       "        vertical-align: middle;\n",
       "    }\n",
       "\n",
       "    .dataframe tbody tr th {\n",
       "        vertical-align: top;\n",
       "    }\n",
       "\n",
       "    .dataframe thead th {\n",
       "        text-align: right;\n",
       "    }\n",
       "</style>\n",
       "<table border=\"1\" class=\"dataframe\">\n",
       "  <thead>\n",
       "    <tr style=\"text-align: right;\">\n",
       "      <th></th>\n",
       "      <th>customer_id</th>\n",
       "      <th>gender</th>\n",
       "      <th>past_3_years_bike_related_purchases</th>\n",
       "      <th>wealth_segment</th>\n",
       "      <th>deceased_indicator</th>\n",
       "      <th>owns_car</th>\n",
       "      <th>tenure</th>\n",
       "      <th>list_price</th>\n",
       "      <th>postcode</th>\n",
       "      <th>state</th>\n",
       "      <th>country</th>\n",
       "      <th>property_valuation</th>\n",
       "      <th>age_group</th>\n",
       "    </tr>\n",
       "  </thead>\n",
       "  <tbody>\n",
       "    <tr>\n",
       "      <th>0</th>\n",
       "      <td>34</td>\n",
       "      <td>U</td>\n",
       "      <td>59</td>\n",
       "      <td>Affluent Customer</td>\n",
       "      <td>N</td>\n",
       "      <td>No</td>\n",
       "      <td>20.0</td>\n",
       "      <td>13133.00</td>\n",
       "      <td>4005.0</td>\n",
       "      <td>QLD</td>\n",
       "      <td>Australia</td>\n",
       "      <td>8.0</td>\n",
       "      <td>Not Available</td>\n",
       "    </tr>\n",
       "    <tr>\n",
       "      <th>1</th>\n",
       "      <td>720</td>\n",
       "      <td>M</td>\n",
       "      <td>67</td>\n",
       "      <td>Affluent Customer</td>\n",
       "      <td>N</td>\n",
       "      <td>No</td>\n",
       "      <td>6.0</td>\n",
       "      <td>13004.35</td>\n",
       "      <td>2026.0</td>\n",
       "      <td>NSW</td>\n",
       "      <td>Australia</td>\n",
       "      <td>10.0</td>\n",
       "      <td>90-100</td>\n",
       "    </tr>\n",
       "    <tr>\n",
       "      <th>2</th>\n",
       "      <td>1092</td>\n",
       "      <td>F</td>\n",
       "      <td>56</td>\n",
       "      <td>Mass Customer</td>\n",
       "      <td>N</td>\n",
       "      <td>No</td>\n",
       "      <td>5.0</td>\n",
       "      <td>4893.72</td>\n",
       "      <td>3337.0</td>\n",
       "      <td>VIC</td>\n",
       "      <td>Australia</td>\n",
       "      <td>3.0</td>\n",
       "      <td>80-90</td>\n",
       "    </tr>\n",
       "    <tr>\n",
       "      <th>3</th>\n",
       "      <td>3410</td>\n",
       "      <td>F</td>\n",
       "      <td>93</td>\n",
       "      <td>Mass Customer</td>\n",
       "      <td>N</td>\n",
       "      <td>No</td>\n",
       "      <td>16.0</td>\n",
       "      <td>2965.89</td>\n",
       "      <td>2049.0</td>\n",
       "      <td>NSW</td>\n",
       "      <td>Australia</td>\n",
       "      <td>10.0</td>\n",
       "      <td>80-90</td>\n",
       "    </tr>\n",
       "    <tr>\n",
       "      <th>4</th>\n",
       "      <td>2413</td>\n",
       "      <td>M</td>\n",
       "      <td>27</td>\n",
       "      <td>High Net Worth</td>\n",
       "      <td>N</td>\n",
       "      <td>Yes</td>\n",
       "      <td>17.0</td>\n",
       "      <td>8666.87</td>\n",
       "      <td>3082.0</td>\n",
       "      <td>VIC</td>\n",
       "      <td>Australia</td>\n",
       "      <td>8.0</td>\n",
       "      <td>70-80</td>\n",
       "    </tr>\n",
       "  </tbody>\n",
       "</table>\n",
       "</div>"
      ],
      "text/plain": [
       "   customer_id gender  past_3_years_bike_related_purchases     wealth_segment  \\\n",
       "0           34      U                                   59  Affluent Customer   \n",
       "1          720      M                                   67  Affluent Customer   \n",
       "2         1092      F                                   56      Mass Customer   \n",
       "3         3410      F                                   93      Mass Customer   \n",
       "4         2413      M                                   27     High Net Worth   \n",
       "\n",
       "  deceased_indicator owns_car  tenure  list_price  postcode state    country  \\\n",
       "0                  N       No    20.0    13133.00    4005.0   QLD  Australia   \n",
       "1                  N       No     6.0    13004.35    2026.0   NSW  Australia   \n",
       "2                  N       No     5.0     4893.72    3337.0   VIC  Australia   \n",
       "3                  N       No    16.0     2965.89    2049.0   NSW  Australia   \n",
       "4                  N      Yes    17.0     8666.87    3082.0   VIC  Australia   \n",
       "\n",
       "   property_valuation      age_group  \n",
       "0                 8.0  Not Available  \n",
       "1                10.0         90-100  \n",
       "2                 3.0          80-90  \n",
       "3                10.0          80-90  \n",
       "4                 8.0          70-80  "
      ]
     },
     "execution_count": 2,
     "metadata": {},
     "output_type": "execute_result"
    }
   ],
   "source": [
    "data = pd.read_csv(\"preprocessed_data.csv\")\n",
    "data.head()"
   ]
  },
  {
   "cell_type": "code",
   "execution_count": 4,
   "id": "05614c36-02a7-4dbc-a6f4-40aa458cd311",
   "metadata": {},
   "outputs": [
    {
     "data": {
      "text/plain": [
       "873"
      ]
     },
     "execution_count": 4,
     "metadata": {},
     "output_type": "execute_result"
    }
   ],
   "source": [
    "a = data['postcode'].unique()\n",
    "len(a)"
   ]
  },
  {
   "cell_type": "code",
   "execution_count": null,
   "id": "a2a5c767-4beb-4448-8d23-0ca7034d15c5",
   "metadata": {},
   "outputs": [],
   "source": []
  }
 ],
 "metadata": {
  "kernelspec": {
   "display_name": "Python 3",
   "language": "python",
   "name": "python3"
  },
  "language_info": {
   "codemirror_mode": {
    "name": "ipython",
    "version": 3
   },
   "file_extension": ".py",
   "mimetype": "text/x-python",
   "name": "python",
   "nbconvert_exporter": "python",
   "pygments_lexer": "ipython3",
   "version": "3.9.7"
  }
 },
 "nbformat": 4,
 "nbformat_minor": 5
}
